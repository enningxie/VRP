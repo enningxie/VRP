{
 "cells": [
  {
   "cell_type": "code",
   "execution_count": 1,
   "metadata": {},
   "outputs": [],
   "source": [
    "from ortools.constraint_solver import pywrapcp"
   ]
  },
  {
   "cell_type": "code",
   "execution_count": 2,
   "metadata": {},
   "outputs": [],
   "source": [
    "# create the solver\n",
    "solver = pywrapcp.Solver('jobshop')\n",
    "\n",
    "machines_count = 3\n",
    "jobs_count = 3\n",
    "all_machines = range(0, machines_count)\n",
    "all_jobs = range(0, jobs_count)\n",
    "# define data.\n",
    "machines = [[0, 1, 2],\n",
    "            [0, 2, 1],\n",
    "            [1, 2]]\n",
    "\n",
    "processing_times = [[3, 2, 2],\n",
    "                   [2, 1, 4],\n",
    "                   [4, 3]]\n"
   ]
  },
  {
   "cell_type": "code",
   "execution_count": 3,
   "metadata": {},
   "outputs": [],
   "source": [
    "solver = pywrapcp.Solver('jobshop')"
   ]
  },
  {
   "cell_type": "code",
   "execution_count": 4,
   "metadata": {},
   "outputs": [],
   "source": [
    "# computes horizon.\n",
    "horizon = 0\n",
    "for i in all_jobs:\n",
    "    horizon += sum(processing_times[i])"
   ]
  },
  {
   "cell_type": "code",
   "execution_count": 6,
   "metadata": {},
   "outputs": [],
   "source": [
    "# create jobs\n",
    "all_tasks = {}\n",
    "for i in all_jobs:\n",
    "    for j in range(0, len(machines[i])):\n",
    "        all_tasks[(i, j)] = solver.FixedDurationIntervalVar(\n",
    "            0,\n",
    "            horizon,\n",
    "            processing_times[i][j],\n",
    "            False,\n",
    "            'Job_%i_%i' % (i, j)\n",
    "        )\n",
    "        \n",
    "# creates sequence variables and add disjunctive constraints.\n",
    "all_sequences = []\n",
    "all_machines_jobs = []\n",
    "for i in all_machines:\n",
    "    machines_jobs = []\n",
    "    for j in all_jobs:\n",
    "        for k in range(0, len(machines[j])):\n",
    "            if machines[j][k] == i:\n",
    "                machines_jobs.append(all_tasks[(j, k)])\n",
    "    disj = solver.DisjunctiveConstraint(machines_jobs, 'machine %i' % i)\n",
    "    all_sequences.append(disj.SequenceVar())\n",
    "    solver.Add(disj)\n",
    "    \n",
    "# Add conjunctive contraints.\n",
    "for i in all_jobs:\n",
    "    for j in range(0, len(machines[i]) - 1):\n",
    "        solver.Add(all_tasks[(i, j + 1)].StartsAfterEnd(all_tasks[(i, j)]))\n"
   ]
  },
  {
   "cell_type": "code",
   "execution_count": 7,
   "metadata": {},
   "outputs": [],
   "source": [
    "# define the objective\n",
    "# set the objective\n",
    "obj_var = solver.Max([all_tasks[(i, len(machines[i])-1)].EndExpr() for i in all_jobs])"
   ]
  },
  {
   "cell_type": "code",
   "execution_count": 8,
   "metadata": {},
   "outputs": [],
   "source": [
    "# Create search phases.\n",
    "sequence_phase = solver.Phase([all_sequences[i] for i in all_machines],\n",
    "                                solver.SEQUENCE_DEFAULT)\n",
    "vars_phase = solver.Phase([obj_var],\n",
    "                            solver.CHOOSE_FIRST_UNBOUND,\n",
    "                            solver.ASSIGN_MIN_VALUE)\n",
    "main_phase = solver.Compose([sequence_phase, vars_phase])"
   ]
  }
 ],
 "metadata": {
  "kernelspec": {
   "display_name": "Python 3",
   "language": "python",
   "name": "python3"
  },
  "language_info": {
   "codemirror_mode": {
    "name": "ipython",
    "version": 3
   },
   "file_extension": ".py",
   "mimetype": "text/x-python",
   "name": "python",
   "nbconvert_exporter": "python",
   "pygments_lexer": "ipython3",
   "version": "3.6.2"
  }
 },
 "nbformat": 4,
 "nbformat_minor": 2
}
