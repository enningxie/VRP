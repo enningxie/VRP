{
 "cells": [
  {
   "cell_type": "code",
   "execution_count": 1,
   "metadata": {},
   "outputs": [],
   "source": [
    "# CP Solvers\n",
    "# the CP-SAT solver\n",
    "# Three variables, x, y, z, each of which can take on the values: 0, 1, 2.\n",
    "# one constraint: x != y\n",
    "# the problem is to find all assignments of values to the variables for which x != y.\n",
    "from ortools.sat.python import cp_model"
   ]
  },
  {
   "cell_type": "code",
   "execution_count": 2,
   "metadata": {},
   "outputs": [],
   "source": [
    "# declare the model\n",
    "model = cp_model.CpModel()"
   ]
  },
  {
   "cell_type": "code",
   "execution_count": 3,
   "metadata": {},
   "outputs": [],
   "source": [
    "# create the variables\n",
    "num_vals = 3\n",
    "x = model.NewIntVar(0, num_vals - 1, 'x')\n",
    "y = model.NewIntVar(0, num_vals - 1, 'y')\n",
    "z = model.NewIntVar(0, num_vals - 1, 'z')"
   ]
  },
  {
   "cell_type": "code",
   "execution_count": 4,
   "metadata": {},
   "outputs": [
    {
     "data": {
      "text/plain": [
       "<ortools.sat.python.cp_model.Constraint at 0x1cb78e4a080>"
      ]
     },
     "execution_count": 4,
     "metadata": {},
     "output_type": "execute_result"
    }
   ],
   "source": [
    "# create the constraint\n",
    "model.Add(x != y)"
   ]
  },
  {
   "cell_type": "code",
   "execution_count": 5,
   "metadata": {},
   "outputs": [],
   "source": [
    "# create the solution printer\n",
    "class SolutionPrinter(cp_model.CpSolverSolutionCallback):\n",
    "    \"\"\"Pirnt intermediate solutions.\"\"\"\n",
    "    def __init__(self, variables):\n",
    "        cp_model.CpSolverSolutionCallback.__init__(self)\n",
    "        self.__variables = variables\n",
    "        self.__solution_count = 0\n",
    "    \n",
    "    def NewSolution(self):\n",
    "        self.__solution_count += 1\n",
    "        for v in self.__variables:\n",
    "            print('{} = {}'.format(v, self.Value(v)), end=' ')\n",
    "        print()\n",
    "        \n",
    "    def SolutionCount(self):\n",
    "        return self.__solution_count"
   ]
  },
  {
   "cell_type": "code",
   "execution_count": 6,
   "metadata": {},
   "outputs": [
    {
     "name": "stdout",
     "output_type": "stream",
     "text": [
      "x = 1 y = 0 z = 0 \n",
      "x = 2 y = 0 z = 0 \n",
      "x = 2 y = 1 z = 0 \n",
      "x = 2 y = 1 z = 1 \n",
      "x = 2 y = 1 z = 2 \n",
      "x = 2 y = 0 z = 2 \n",
      "x = 2 y = 0 z = 1 \n",
      "x = 1 y = 0 z = 1 \n",
      "x = 0 y = 1 z = 1 \n",
      "x = 0 y = 1 z = 2 \n",
      "x = 0 y = 2 z = 2 \n",
      "x = 1 y = 2 z = 2 \n",
      "x = 1 y = 2 z = 1 \n",
      "x = 1 y = 2 z = 0 \n",
      "x = 0 y = 2 z = 0 \n",
      "x = 0 y = 1 z = 0 \n",
      "x = 0 y = 2 z = 1 \n",
      "x = 1 y = 0 z = 2 \n"
     ]
    }
   ],
   "source": [
    "# call the solver\n",
    "solver = cp_model.CpSolver()\n",
    "solution_printer = SolutionPrinter([x, y, z])\n",
    "status = solver.SearchForAllSolutions(model, solution_printer)"
   ]
  },
  {
   "cell_type": "code",
   "execution_count": 7,
   "metadata": {},
   "outputs": [
    {
     "data": {
      "text/plain": [
       "2"
      ]
     },
     "execution_count": 7,
     "metadata": {},
     "output_type": "execute_result"
    }
   ],
   "source": [
    "status"
   ]
  },
  {
   "cell_type": "code",
   "execution_count": 8,
   "metadata": {},
   "outputs": [
    {
     "name": "stdout",
     "output_type": "stream",
     "text": [
      "Number of solutions found: 18.\n"
     ]
    }
   ],
   "source": [
    "print('Number of solutions found: {}.'.format(solution_printer.SolutionCount()))"
   ]
  },
  {
   "cell_type": "code",
   "execution_count": 9,
   "metadata": {},
   "outputs": [
    {
     "data": {
      "text/plain": [
       "4"
      ]
     },
     "execution_count": 9,
     "metadata": {},
     "output_type": "execute_result"
    }
   ],
   "source": [
    "cp_model.OPTIMAL"
   ]
  },
  {
   "cell_type": "code",
   "execution_count": 10,
   "metadata": {},
   "outputs": [
    {
     "data": {
      "text/plain": [
       "2"
      ]
     },
     "execution_count": 10,
     "metadata": {},
     "output_type": "execute_result"
    }
   ],
   "source": [
    "cp_model.FEASIBLE"
   ]
  },
  {
   "cell_type": "code",
   "execution_count": 11,
   "metadata": {},
   "outputs": [
    {
     "data": {
      "text/plain": [
       "3"
      ]
     },
     "execution_count": 11,
     "metadata": {},
     "output_type": "execute_result"
    }
   ],
   "source": [
    "cp_model.INFEASIBLE"
   ]
  },
  {
   "cell_type": "code",
   "execution_count": 12,
   "metadata": {},
   "outputs": [
    {
     "data": {
      "text/plain": [
       "1"
      ]
     },
     "execution_count": 12,
     "metadata": {},
     "output_type": "execute_result"
    }
   ],
   "source": [
    "cp_model.MODEL_INVALID"
   ]
  },
  {
   "cell_type": "code",
   "execution_count": 13,
   "metadata": {},
   "outputs": [
    {
     "data": {
      "text/plain": [
       "0"
      ]
     },
     "execution_count": 13,
     "metadata": {},
     "output_type": "execute_result"
    }
   ],
   "source": [
    "cp_model.UNKNOWN"
   ]
  },
  {
   "cell_type": "code",
   "execution_count": null,
   "metadata": {},
   "outputs": [],
   "source": []
  }
 ],
 "metadata": {
  "kernelspec": {
   "display_name": "Python 3",
   "language": "python",
   "name": "python3"
  },
  "language_info": {
   "codemirror_mode": {
    "name": "ipython",
    "version": 3
   },
   "file_extension": ".py",
   "mimetype": "text/x-python",
   "name": "python",
   "nbconvert_exporter": "python",
   "pygments_lexer": "ipython3",
   "version": "3.6.2"
  }
 },
 "nbformat": 4,
 "nbformat_minor": 2
}
