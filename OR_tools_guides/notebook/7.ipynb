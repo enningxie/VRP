{
 "cells": [
  {
   "cell_type": "code",
   "execution_count": 1,
   "metadata": {},
   "outputs": [],
   "source": [
    "from ortools.sat.python import cp_model"
   ]
  },
  {
   "cell_type": "code",
   "execution_count": 2,
   "metadata": {},
   "outputs": [],
   "source": [
    "def CodeSample():\n",
    "    model = cp_model.CpModel()\n",
    "    x = model.NewBoolVar('x')\n",
    "    print(x)"
   ]
  },
  {
   "cell_type": "code",
   "execution_count": 3,
   "metadata": {},
   "outputs": [
    {
     "name": "stdout",
     "output_type": "stream",
     "text": [
      "x\n"
     ]
    }
   ],
   "source": [
    "CodeSample()"
   ]
  },
  {
   "cell_type": "code",
   "execution_count": 4,
   "metadata": {},
   "outputs": [],
   "source": [
    "def LiteralSample():\n",
    "    model = cp_model.CpModel()\n",
    "    x = model.NewBoolVar('x')\n",
    "    not_x = x.Not()\n",
    "    print(x)\n",
    "    print(not_x)"
   ]
  },
  {
   "cell_type": "code",
   "execution_count": 5,
   "metadata": {},
   "outputs": [
    {
     "name": "stdout",
     "output_type": "stream",
     "text": [
      "x\n",
      "not(x)\n"
     ]
    }
   ],
   "source": [
    "LiteralSample()"
   ]
  },
  {
   "cell_type": "code",
   "execution_count": 12,
   "metadata": {},
   "outputs": [],
   "source": [
    "# Boolean constraints\n",
    "def BoolOrSample():\n",
    "    model = cp_model.CpModel()\n",
    "    x = model.NewBoolVar('x')\n",
    "    y = model.NewBoolVar('y')\n",
    "    model.AddBoolOr([x, y.Not()])"
   ]
  },
  {
   "cell_type": "code",
   "execution_count": 13,
   "metadata": {},
   "outputs": [],
   "source": [
    "BoolOrSample()"
   ]
  },
  {
   "cell_type": "code",
   "execution_count": 14,
   "metadata": {},
   "outputs": [],
   "source": [
    "# reified constraints\n",
    "def ReifiedSample():\n",
    "    \"\"\"Showcase creating a reified constraint.\"\"\"\n",
    "    model = cp_model.CpModel()\n",
    "    \n",
    "    x = model.NewBoolVar('x')\n",
    "    y = model.NewBoolVar('y')\n",
    "    b = model.NewBoolVar('b')\n",
    "    \n",
    "    # First version using a half-reified bool and.\n",
    "    model.AddBoolAnd([x, y.Not()]).OnlyEnforceIf(b)\n",
    "    \n",
    "    # Second version using implications.\n",
    "    model.AddImplication(b, x)\n",
    "    model.AddImplication(b, y.Not())\n",
    "    \n",
    "    # Third version using bool or.\n",
    "    model.AddBoolOr([b.Not(), x])\n",
    "    model.AddBoolOr([b.Not(), y.Not()])"
   ]
  },
  {
   "cell_type": "code",
   "execution_count": 15,
   "metadata": {},
   "outputs": [],
   "source": [
    "ReifiedSample()"
   ]
  },
  {
   "cell_type": "code",
   "execution_count": 16,
   "metadata": {},
   "outputs": [],
   "source": [
    "# Rabbits and Pheasants examples\n",
    "def RabbitsAndPheasants():\n",
    "    \"\"\"Solves the rabbits + pheasants problem.\"\"\"\n",
    "    # 1. model\n",
    "    model = cp_model.CpModel()\n",
    "    # 2. variables\n",
    "    r = model.NewIntVar(0, 100, 'r')\n",
    "    p = model.NewIntVar(0, 100, 'p')\n",
    "    \n",
    "    # 3. constraints\n",
    "    # 20 heads.\n",
    "    model.Add(r + p == 20)\n",
    "    # 56 legs.\n",
    "    model.Add(4 * r + 2 * p == 56)\n",
    "    \n",
    "    # 4. solver\n",
    "    # Solves and prints out the solution.\n",
    "    solver = cp_model.CpSolver()\n",
    "    status = solver.Solve(model)\n",
    "    \n",
    "    # printer\n",
    "    if status == cp_model.FEASIBLE:\n",
    "        print('{} rabbits and {} pheasants'.format(solver.Value(r), solver.Value(p)))    \n",
    "    "
   ]
  },
  {
   "cell_type": "code",
   "execution_count": 17,
   "metadata": {},
   "outputs": [
    {
     "name": "stdout",
     "output_type": "stream",
     "text": [
      "8 rabbits and 12 pheasants\n"
     ]
    }
   ],
   "source": [
    "RabbitsAndPheasants()"
   ]
  },
  {
   "cell_type": "code",
   "execution_count": 29,
   "metadata": {},
   "outputs": [],
   "source": [
    "# Channeling constraints.\n",
    "\"\"\"Link integer constraints together.\"\"\"\n",
    "class VarArraySolutionPrinter(cp_model.CpSolverSolutionCallback):\n",
    "    \"\"\"Print intermediate solutions.\"\"\"\n",
    "    def  __init__(self, variables):\n",
    "        cp_model.CpSolverSolutionCallback.__init__(self)\n",
    "        self.__variables = variables\n",
    "        self.__solution_count = 0\n",
    "        \n",
    "    def OnSolutionCallback(self):\n",
    "        self.__solution_count += 1\n",
    "        for v in self.__variables:\n",
    "            print('%s=%i' % (v, self.Value(v)), end=' ')\n",
    "        print()\n",
    "    \n",
    "    def SolutionCount(self):\n",
    "        return self.__solution_count\n",
    "    \n",
    "def ChannelingSample():\n",
    "    \"\"\"Demonstrates how to link integer constraints together.\"\"\"\n",
    "    # Model.\n",
    "    model = cp_model.CpModel()\n",
    "    \n",
    "    # Variables.\n",
    "    x = model.NewIntVar(0, 10, 'x')\n",
    "    y = model.NewIntVar(0, 10, 'y')\n",
    "    \n",
    "    b = model.NewBoolVar('b')\n",
    "    \n",
    "    # Implement b == (x >= 5).\n",
    "    model.Add(x >= 5).OnlyEnforceIf(b)\n",
    "    model.Add(x < 5).OnlyEnforceIf(b.Not())\n",
    "    \n",
    "    # b implies (y == 10 - x).\n",
    "    model.Add(y == 10 - x).OnlyEnforceIf(b)\n",
    "    # not(b) implies y == 0.\n",
    "    model.Add(y == 0).OnlyEnforceIf(b.Not())\n",
    "    \n",
    "    # search for x values in increasing order.\n",
    "    model.AddDecisionStrategy([x], cp_model.CHOOSE_FIRST,\n",
    "                             cp_model.SELECT_MIN_VALUE)\n",
    "    \n",
    "    # create a solver and solve with a fixed search.\n",
    "    solver = cp_model.CpSolver()\n",
    "    \n",
    "    # Force solver to follow the decision strategy exactly.\n",
    "    # solver.parameters.search_branching = cp_model.\n",
    "    \n",
    "    # searches and prints out all solutions.\n",
    "    solution_printer = VarArraySolutionPrinter([x, y, b])\n",
    "    solver.SearchForAllSolutions(model, solution_printer)\n",
    "    solution_printer.OnSolutionCallback()\n",
    "    print(solution_printer.SolutionCount())"
   ]
  },
  {
   "cell_type": "code",
   "execution_count": 30,
   "metadata": {},
   "outputs": [
    {
     "name": "stdout",
     "output_type": "stream",
     "text": [
      "x=5 y=5 b=1 \n",
      "1\n"
     ]
    }
   ],
   "source": [
    "ChannelingSample()"
   ]
  },
  {
   "cell_type": "code",
   "execution_count": null,
   "metadata": {},
   "outputs": [],
   "source": [
    "# A bin-packing problem\n",
    "import ortools"
   ]
  }
 ],
 "metadata": {
  "kernelspec": {
   "display_name": "Python 3",
   "language": "python",
   "name": "python3"
  },
  "language_info": {
   "codemirror_mode": {
    "name": "ipython",
    "version": 3
   },
   "file_extension": ".py",
   "mimetype": "text/x-python",
   "name": "python",
   "nbconvert_exporter": "python",
   "pygments_lexer": "ipython3",
   "version": "3.6.2"
  }
 },
 "nbformat": 4,
 "nbformat_minor": 2
}
